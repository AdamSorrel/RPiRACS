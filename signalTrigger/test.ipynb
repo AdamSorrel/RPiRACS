{
 "cells": [
  {
   "cell_type": "code",
   "execution_count": 8,
   "id": "03839f87-c9ea-424f-b7ef-5a8f10858f44",
   "metadata": {},
   "outputs": [],
   "source": [
    "import time, sched"
   ]
  },
  {
   "cell_type": "code",
   "execution_count": 2,
   "id": "c1cd1e03-93fe-4e6d-ac75-bff18449b6a1",
   "metadata": {},
   "outputs": [],
   "source": [
    "def retrieveTime():\n",
    "    now = float(time.clock_gettime_ns(time.CLOCK_REALTIME))\n",
    "    return now/1e9\n",
    "\n",
    "def triggerRead(triggerTime, triggerData):\n",
    "    currentTime = retrieveTime()\n",
    "    print(f\"Triggering read with incoming data: {triggerData}, error: {triggerTime - currentTime}\")"
   ]
  },
  {
   "cell_type": "code",
   "execution_count": 3,
   "id": "e6d0e462-19f6-42ba-ba33-b5cd6a43f31f",
   "metadata": {},
   "outputs": [],
   "source": [
    "s = sched.scheduler(timefunc=retrieveTime, delayfunc=time.sleep)"
   ]
  },
  {
   "cell_type": "code",
   "execution_count": 4,
   "id": "0d611ea8-e8d0-4634-94cc-28e9d8fcc5cf",
   "metadata": {},
   "outputs": [
    {
     "data": {
      "text/plain": [
       "1719310748.9084718"
      ]
     },
     "execution_count": 4,
     "metadata": {},
     "output_type": "execute_result"
    }
   ],
   "source": [
    "retrieveTime()"
   ]
  },
  {
   "cell_type": "code",
   "execution_count": 5,
   "id": "a080e2c9-5166-4caf-897f-2a35a0c230ad",
   "metadata": {},
   "outputs": [
    {
     "name": "stdout",
     "output_type": "stream",
     "text": [
      "Triggering read with incoming data: Triggered at 1719310748.9350758, error: -0.00010514259338378906\n"
     ]
    }
   ],
   "source": [
    "triggerTime = retrieveTime() + 1\n",
    "triggerData = f\"Triggered at {retrieveTime()}\"\n",
    "\n",
    "s.enterabs(time=triggerTime, priority=10, action=triggerRead, argument=(triggerTime, triggerData))\n",
    "\n",
    "s.run()"
   ]
  },
  {
   "cell_type": "code",
   "execution_count": 6,
   "id": "2a904ca5-1df0-4721-b8ef-af0ffcb6de9b",
   "metadata": {},
   "outputs": [
    {
     "name": "stdout",
     "output_type": "stream",
     "text": [
      "Time until trigger: -0.9999947547912598\n",
      "Triggering read with incoming data: Triggered at 1719310748.9350758, error: -0.00011491775512695312\n",
      "Time until trigger: -0.9999880790710449\n",
      "Triggering read with incoming data: Triggered at 1719310748.9350758, error: -0.00010418891906738281\n",
      "Time until trigger: -0.9999892711639404\n",
      "Triggering read with incoming data: Triggered at 1719310748.9350758, error: -0.00010204315185546875\n",
      "Time until trigger: -0.9999909400939941\n",
      "Stopping\n"
     ]
    }
   ],
   "source": [
    "while True:\n",
    "    try:\n",
    "        #for trigger in r.scan_iter(match=\"trigger_*\"):\n",
    "        #    triggerData = r.get(trigger)\n",
    "            # Clearing up processed triggers\n",
    "        #    triggerTime = float(trigger.split(\"_\")[1])\n",
    "        triggerTime = retrieveTime() + 1\n",
    "        currentTime = retrieveTime()\n",
    "        print(f\"Time until trigger: {currentTime-triggerTime}\")\n",
    "        # Triggering read\n",
    "        s.enterabs(time=triggerTime, priority=10, action=triggerRead, argument=(triggerTime, triggerData))\n",
    "        s.run()\n",
    "        #    r.delete(trigger)\n",
    "        time.sleep(0.5)\n",
    "    except KeyboardInterrupt:\n",
    "        print(\"Stopping\")\n",
    "        # Cancelling all upcoming events\n",
    "        for event in s.queue:\n",
    "            s.cancel(event)\n",
    "        break"
   ]
  },
  {
   "cell_type": "code",
   "execution_count": 2,
   "id": "23573dcc-48ec-46ce-98ce-81f3046c88af",
   "metadata": {},
   "outputs": [],
   "source": [
    "import gpiod"
   ]
  },
  {
   "cell_type": "code",
   "execution_count": 28,
   "id": "3128fde6-0e6f-4b2b-bdf7-d5e678b1c5eb",
   "metadata": {},
   "outputs": [
    {
     "data": {
      "text/plain": [
       "True"
      ]
     },
     "execution_count": 28,
     "metadata": {},
     "output_type": "execute_result"
    }
   ],
   "source": [
    "gpiod.is_gpiochip_device(\"/dev/gpiochip4\")"
   ]
  },
  {
   "cell_type": "code",
   "execution_count": 42,
   "id": "f02ab636-6300-42a4-b0ce-956cc57b9d06",
   "metadata": {},
   "outputs": [],
   "source": [
    "triggerPin = gpiod.request_lines(\"/dev/gpiochip4\", \n",
    "                                 consumer=\"raman-trigger\", \n",
    "                                 config={\n",
    "                                     LINE: gpiod.LineSettings(\n",
    "                                         direction=Direction.OUTPUT, output_value=Value.ACTIVE\n",
    "                                     )\n",
    "                                 },\n",
    "                                )"
   ]
  },
  {
   "cell_type": "code",
   "execution_count": 43,
   "id": "a077384c-3a8d-43fc-bb6e-c2668f908802",
   "metadata": {},
   "outputs": [
    {
     "data": {
      "text/plain": [
       "int"
      ]
     },
     "execution_count": 43,
     "metadata": {},
     "output_type": "execute_result"
    }
   ],
   "source": [
    "type(LINE)"
   ]
  },
  {
   "cell_type": "code",
   "execution_count": 44,
   "id": "77a9346d-ff99-4a73-a143-9200505f8725",
   "metadata": {},
   "outputs": [
    {
     "data": {
      "text/plain": [
       "<Value.ACTIVE: 1>"
      ]
     },
     "execution_count": 44,
     "metadata": {},
     "output_type": "execute_result"
    }
   ],
   "source": [
    "triggerPin.get_value(LINE)"
   ]
  },
  {
   "cell_type": "code",
   "execution_count": 45,
   "id": "28a0efe2-dc2d-4380-8a02-04eccc843d5b",
   "metadata": {},
   "outputs": [],
   "source": [
    "triggerPin.set_value(LINE, Value.INACTIVE)"
   ]
  },
  {
   "cell_type": "code",
   "execution_count": 46,
   "id": "efbbeca0-b8fb-4376-84f9-818adef01b80",
   "metadata": {},
   "outputs": [
    {
     "data": {
      "text/plain": [
       "<Value.INACTIVE: 0>"
      ]
     },
     "execution_count": 46,
     "metadata": {},
     "output_type": "execute_result"
    }
   ],
   "source": [
    "triggerPin.get_value(LINE)"
   ]
  },
  {
   "cell_type": "code",
   "execution_count": 47,
   "id": "cb40d725-14ac-446b-9184-ad06e410017e",
   "metadata": {},
   "outputs": [],
   "source": [
    "triggerPin.release()"
   ]
  },
  {
   "cell_type": "code",
   "execution_count": 30,
   "id": "44a687ee-f817-4489-b4e0-bc5882092045",
   "metadata": {},
   "outputs": [
    {
     "ename": "KeyboardInterrupt",
     "evalue": "",
     "output_type": "error",
     "traceback": [
      "\u001b[0;31m---------------------------------------------------------------------------\u001b[0m",
      "\u001b[0;31mKeyboardInterrupt\u001b[0m                         Traceback (most recent call last)",
      "Cell \u001b[0;32mIn[30], line 20\u001b[0m\n\u001b[1;32m     18\u001b[0m time\u001b[38;5;241m.\u001b[39msleep(\u001b[38;5;241m1\u001b[39m)\n\u001b[1;32m     19\u001b[0m request\u001b[38;5;241m.\u001b[39mset_value(LINE, Value\u001b[38;5;241m.\u001b[39mINACTIVE)\n\u001b[0;32m---> 20\u001b[0m \u001b[43mtime\u001b[49m\u001b[38;5;241;43m.\u001b[39;49m\u001b[43msleep\u001b[49m\u001b[43m(\u001b[49m\u001b[38;5;241;43m1\u001b[39;49m\u001b[43m)\u001b[49m\n",
      "\u001b[0;31mKeyboardInterrupt\u001b[0m: "
     ]
    }
   ],
   "source": [
    "import time\n",
    "\n",
    "from gpiod.line import Direction, Value\n",
    "\n",
    "LINE = 5\n",
    "\n",
    "with gpiod.request_lines(\n",
    "    \"/dev/gpiochip0\",\n",
    "    consumer=\"blink-example\",\n",
    "    config={\n",
    "        LINE: gpiod.LineSettings(\n",
    "            direction=Direction.OUTPUT, output_value=Value.ACTIVE\n",
    "        )\n",
    "    },\n",
    ") as request:\n",
    "    while True:\n",
    "        request.set_value(LINE, Value.ACTIVE)\n",
    "        time.sleep(1)\n",
    "        request.set_value(LINE, Value.INACTIVE)\n",
    "        time.sleep(1)\n"
   ]
  },
  {
   "cell_type": "code",
   "execution_count": 16,
   "id": "a1f4006e-8700-4b45-8de6-85ae2a5b6bf2",
   "metadata": {},
   "outputs": [
    {
     "data": {
      "text/plain": [
       "54"
      ]
     },
     "execution_count": 16,
     "metadata": {},
     "output_type": "execute_result"
    }
   ],
   "source": [
    "info.num_lines"
   ]
  },
  {
   "cell_type": "code",
   "execution_count": 22,
   "id": "84e68ac9-8396-4f2f-89b6-057b90225d28",
   "metadata": {},
   "outputs": [
    {
     "name": "stdout",
     "output_type": "stream",
     "text": [
      "line: 0, name: ID_SDA\n",
      "line: 1, name: ID_SCL\n",
      "line: 2, name: GPIO2\n",
      "line: 3, name: GPIO3\n",
      "line: 4, name: GPIO4\n",
      "line: 5, name: GPIO5\n",
      "line: 6, name: GPIO6\n",
      "line: 7, name: GPIO7\n",
      "line: 8, name: GPIO8\n",
      "line: 9, name: GPIO9\n",
      "line: 10, name: GPIO10\n",
      "line: 11, name: GPIO11\n",
      "line: 12, name: GPIO12\n",
      "line: 13, name: GPIO13\n",
      "line: 14, name: GPIO14\n",
      "line: 15, name: GPIO15\n",
      "line: 16, name: GPIO16\n",
      "line: 17, name: GPIO17\n",
      "line: 18, name: GPIO18\n",
      "line: 19, name: GPIO19\n",
      "line: 20, name: GPIO20\n",
      "line: 21, name: GPIO21\n",
      "line: 22, name: GPIO22\n",
      "line: 23, name: GPIO23\n",
      "line: 24, name: GPIO24\n",
      "line: 25, name: GPIO25\n",
      "line: 26, name: GPIO26\n",
      "line: 27, name: GPIO27\n",
      "line: 28, name: PCIE_RP1_WAKE\n",
      "line: 29, name: FAN_TACH\n",
      "line: 30, name: HOST_SDA\n",
      "line: 31, name: HOST_SCL\n",
      "line: 32, name: ETH_RST_N\n",
      "line: 33, name: -\n",
      "line: 34, name: CD0_IO0_MICCLK\n",
      "line: 35, name: CD0_IO0_MICDAT0\n",
      "line: 36, name: RP1_PCIE_CLKREQ_N\n",
      "line: 37, name: -\n",
      "line: 38, name: CD0_SDA\n",
      "line: 39, name: CD0_SCL\n",
      "line: 40, name: CD1_SDA\n",
      "line: 41, name: CD1_SCL\n",
      "line: 42, name: USB_VBUS_EN\n",
      "line: 43, name: USB_OC_N\n",
      "line: 44, name: RP1_STAT_LED\n",
      "line: 45, name: FAN_PWM\n",
      "line: 46, name: CD1_IO0_MICCLK\n",
      "line: 47, name: 2712_WAKE\n",
      "line: 48, name: CD1_IO1_MICDAT1\n",
      "line: 49, name: EN_MAX_USB_CUR\n",
      "line: 50, name: -\n",
      "line: 51, name: -\n",
      "line: 52, name: -\n",
      "line: 53, name: -\n"
     ]
    }
   ],
   "source": [
    "for i in range(0, info.num_lines):\n",
    "    lineInfo = chip.get_line_info(i)\n",
    "    print(f\"line: {i}, name: {lineInfo.name}\")"
   ]
  },
  {
   "cell_type": "code",
   "execution_count": 27,
   "id": "010ae9a5-6483-44be-8f9d-ef4676d68a86",
   "metadata": {},
   "outputs": [
    {
     "ename": "AttributeError",
     "evalue": "'NoneType' object has no attribute 'keys'",
     "output_type": "error",
     "traceback": [
      "\u001b[0;31m---------------------------------------------------------------------------\u001b[0m",
      "\u001b[0;31mAttributeError\u001b[0m                            Traceback (most recent call last)",
      "Cell \u001b[0;32mIn[27], line 2\u001b[0m\n\u001b[1;32m      1\u001b[0m TRIGGER_PIN\u001b[38;5;241m=\u001b[39m\u001b[38;5;241m21\u001b[39m\n\u001b[0;32m----> 2\u001b[0m requestedLines \u001b[38;5;241m=\u001b[39m \u001b[43mchip\u001b[49m\u001b[38;5;241;43m.\u001b[39;49m\u001b[43mrequest_lines\u001b[49m\u001b[43m(\u001b[49m\u001b[43mconfig\u001b[49m\u001b[38;5;241;43m=\u001b[39;49m\u001b[38;5;28;43;01mNone\u001b[39;49;00m\u001b[43m,\u001b[49m\u001b[43m \u001b[49m\u001b[43mconsumer\u001b[49m\u001b[38;5;241;43m=\u001b[39;49m\u001b[38;5;124;43m\"\u001b[39;49m\u001b[38;5;124;43mRaman trigger\u001b[39;49m\u001b[38;5;124;43m\"\u001b[39;49m\u001b[43m)\u001b[49m\n",
      "File \u001b[0;32m~/Programs/miniforge3/envs/redisEnv/lib/python3.12/site-packages/gpiod/chip.py:263\u001b[0m, in \u001b[0;36mChip.request_lines\u001b[0;34m(self, config, consumer, event_buffer_size, output_values)\u001b[0m\n\u001b[1;32m    253\u001b[0m line_cfg \u001b[38;5;241m=\u001b[39m _ext\u001b[38;5;241m.\u001b[39mLineConfig()\n\u001b[1;32m    255\u001b[0m \u001b[38;5;66;03m# Sanitize lines - don't allow offset repeatitions or offset-name conflicts.\u001b[39;00m\n\u001b[1;32m    256\u001b[0m \u001b[38;5;28;01mfor\u001b[39;00m offset, count \u001b[38;5;129;01min\u001b[39;00m Counter(\n\u001b[1;32m    257\u001b[0m     [\n\u001b[1;32m    258\u001b[0m         \u001b[38;5;28mself\u001b[39m\u001b[38;5;241m.\u001b[39mline_offset_from_id(line)\n\u001b[1;32m    259\u001b[0m         \u001b[38;5;28;01mfor\u001b[39;00m line \u001b[38;5;129;01min\u001b[39;00m (\n\u001b[1;32m    260\u001b[0m             \u001b[38;5;28;01mlambda\u001b[39;00m t: [\n\u001b[1;32m    261\u001b[0m                 j \u001b[38;5;28;01mfor\u001b[39;00m i \u001b[38;5;129;01min\u001b[39;00m (t) \u001b[38;5;28;01mfor\u001b[39;00m j \u001b[38;5;129;01min\u001b[39;00m (i \u001b[38;5;28;01mif\u001b[39;00m \u001b[38;5;28misinstance\u001b[39m(i, \u001b[38;5;28mtuple\u001b[39m) \u001b[38;5;28;01melse\u001b[39;00m (i,))\n\u001b[1;32m    262\u001b[0m             ]\n\u001b[0;32m--> 263\u001b[0m         )(\u001b[38;5;28mtuple\u001b[39m(\u001b[43mconfig\u001b[49m\u001b[38;5;241;43m.\u001b[39;49m\u001b[43mkeys\u001b[49m()))\n\u001b[1;32m    264\u001b[0m     ]\n\u001b[1;32m    265\u001b[0m )\u001b[38;5;241m.\u001b[39mitems():\n\u001b[1;32m    266\u001b[0m     \u001b[38;5;28;01mif\u001b[39;00m count \u001b[38;5;241m!=\u001b[39m \u001b[38;5;241m1\u001b[39m:\n\u001b[1;32m    267\u001b[0m         \u001b[38;5;28;01mraise\u001b[39;00m \u001b[38;5;167;01mValueError\u001b[39;00m(\n\u001b[1;32m    268\u001b[0m             \u001b[38;5;124m\"\u001b[39m\u001b[38;5;124mline must be configured exactly once - offset \u001b[39m\u001b[38;5;132;01m{}\u001b[39;00m\u001b[38;5;124m repeats\u001b[39m\u001b[38;5;124m\"\u001b[39m\u001b[38;5;241m.\u001b[39mformat(\n\u001b[1;32m    269\u001b[0m                 offset\n\u001b[1;32m    270\u001b[0m             )\n\u001b[1;32m    271\u001b[0m         )\n",
      "\u001b[0;31mAttributeError\u001b[0m: 'NoneType' object has no attribute 'keys'"
     ]
    }
   ],
   "source": [
    "TRIGGER_PIN=21\n",
    "requestedLines = chip.request_lines(consumer=\"Raman trigger\")"
   ]
  },
  {
   "cell_type": "code",
   "execution_count": 24,
   "id": "68cf1b8c-fd84-443a-8794-5d530197a374",
   "metadata": {},
   "outputs": [
    {
     "ename": "AttributeError",
     "evalue": "'int' object has no attribute 'keys'",
     "output_type": "error",
     "traceback": [
      "\u001b[0;31m---------------------------------------------------------------------------\u001b[0m",
      "\u001b[0;31mAttributeError\u001b[0m                            Traceback (most recent call last)",
      "Cell \u001b[0;32mIn[24], line 1\u001b[0m\n\u001b[0;32m----> 1\u001b[0m \u001b[43mchip\u001b[49m\u001b[38;5;241;43m.\u001b[39;49m\u001b[43mrequest_lines\u001b[49m\u001b[43m(\u001b[49m\u001b[43mTRIGGER_PIN\u001b[49m\u001b[43m)\u001b[49m\n",
      "File \u001b[0;32m~/Programs/miniforge3/envs/redisEnv/lib/python3.12/site-packages/gpiod/chip.py:263\u001b[0m, in \u001b[0;36mChip.request_lines\u001b[0;34m(self, config, consumer, event_buffer_size, output_values)\u001b[0m\n\u001b[1;32m    253\u001b[0m line_cfg \u001b[38;5;241m=\u001b[39m _ext\u001b[38;5;241m.\u001b[39mLineConfig()\n\u001b[1;32m    255\u001b[0m \u001b[38;5;66;03m# Sanitize lines - don't allow offset repeatitions or offset-name conflicts.\u001b[39;00m\n\u001b[1;32m    256\u001b[0m \u001b[38;5;28;01mfor\u001b[39;00m offset, count \u001b[38;5;129;01min\u001b[39;00m Counter(\n\u001b[1;32m    257\u001b[0m     [\n\u001b[1;32m    258\u001b[0m         \u001b[38;5;28mself\u001b[39m\u001b[38;5;241m.\u001b[39mline_offset_from_id(line)\n\u001b[1;32m    259\u001b[0m         \u001b[38;5;28;01mfor\u001b[39;00m line \u001b[38;5;129;01min\u001b[39;00m (\n\u001b[1;32m    260\u001b[0m             \u001b[38;5;28;01mlambda\u001b[39;00m t: [\n\u001b[1;32m    261\u001b[0m                 j \u001b[38;5;28;01mfor\u001b[39;00m i \u001b[38;5;129;01min\u001b[39;00m (t) \u001b[38;5;28;01mfor\u001b[39;00m j \u001b[38;5;129;01min\u001b[39;00m (i \u001b[38;5;28;01mif\u001b[39;00m \u001b[38;5;28misinstance\u001b[39m(i, \u001b[38;5;28mtuple\u001b[39m) \u001b[38;5;28;01melse\u001b[39;00m (i,))\n\u001b[1;32m    262\u001b[0m             ]\n\u001b[0;32m--> 263\u001b[0m         )(\u001b[38;5;28mtuple\u001b[39m(\u001b[43mconfig\u001b[49m\u001b[38;5;241;43m.\u001b[39;49m\u001b[43mkeys\u001b[49m()))\n\u001b[1;32m    264\u001b[0m     ]\n\u001b[1;32m    265\u001b[0m )\u001b[38;5;241m.\u001b[39mitems():\n\u001b[1;32m    266\u001b[0m     \u001b[38;5;28;01mif\u001b[39;00m count \u001b[38;5;241m!=\u001b[39m \u001b[38;5;241m1\u001b[39m:\n\u001b[1;32m    267\u001b[0m         \u001b[38;5;28;01mraise\u001b[39;00m \u001b[38;5;167;01mValueError\u001b[39;00m(\n\u001b[1;32m    268\u001b[0m             \u001b[38;5;124m\"\u001b[39m\u001b[38;5;124mline must be configured exactly once - offset \u001b[39m\u001b[38;5;132;01m{}\u001b[39;00m\u001b[38;5;124m repeats\u001b[39m\u001b[38;5;124m\"\u001b[39m\u001b[38;5;241m.\u001b[39mformat(\n\u001b[1;32m    269\u001b[0m                 offset\n\u001b[1;32m    270\u001b[0m             )\n\u001b[1;32m    271\u001b[0m         )\n",
      "\u001b[0;31mAttributeError\u001b[0m: 'int' object has no attribute 'keys'"
     ]
    }
   ],
   "source": [
    "chip.request_lines(TRIGGER_PIN)"
   ]
  },
  {
   "cell_type": "code",
   "execution_count": null,
   "id": "77529f0c-4a91-46a9-8c1d-d408b51df31c",
   "metadata": {},
   "outputs": [],
   "source": []
  }
 ],
 "metadata": {
  "kernelspec": {
   "display_name": "Python 3 (ipykernel)",
   "language": "python",
   "name": "python3"
  },
  "language_info": {
   "codemirror_mode": {
    "name": "ipython",
    "version": 3
   },
   "file_extension": ".py",
   "mimetype": "text/x-python",
   "name": "python",
   "nbconvert_exporter": "python",
   "pygments_lexer": "ipython3",
   "version": "3.12.3"
  }
 },
 "nbformat": 4,
 "nbformat_minor": 5
}
